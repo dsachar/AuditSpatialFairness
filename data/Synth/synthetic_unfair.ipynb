{
 "cells": [
  {
   "cell_type": "code",
   "execution_count": null,
   "metadata": {},
   "outputs": [],
   "source": [
    "import pandas as pd\n",
    "import numpy as np\n",
    "import folium\n",
    "import random\n",
    "\n",
    "import sys\n",
    "sys.path.append('../../src')\n",
    "from functions import *"
   ]
  },
  {
   "cell_type": "code",
   "execution_count": null,
   "metadata": {},
   "outputs": [],
   "source": [
    "points_a, types_a = create_points(5000, 0.667)\n",
    "print(np.sum(types_a))\n",
    "\n",
    "points_b, types_b = create_points(5000, 0.333)\n",
    "print(np.sum(types_b))\n",
    "\n",
    "# points[:10]"
   ]
  },
  {
   "cell_type": "code",
   "execution_count": null,
   "metadata": {},
   "outputs": [],
   "source": [
    "min_lon, max_lon, min_lat, max_lat = -87.634938+40, -80.031362+40, 24.523096, 31.000888\n",
    "\n"
   ]
  },
  {
   "cell_type": "code",
   "execution_count": null,
   "metadata": {},
   "outputs": [],
   "source": [
    "lons_a = [ min_lon + point[0]*(max_lon-min_lon)/2  for point in points_a ]\n",
    "lats_a = [ min_lat + point[1]*(max_lat-min_lat)  for point in points_a ]\n",
    "\n",
    "\n",
    "lons_b = [ min_lon + (point[0]+1)*(max_lon-min_lon)/2  for point in points_b ]\n",
    "lats_b = [ min_lat + point[1]*(max_lat-min_lat)  for point in points_b ]\n",
    "\n",
    "lons = lons_a + lons_b\n",
    "lats = lats_a + lats_b\n",
    "types = list(types_a) + list(types_b)\n",
    "\n",
    "len(lons), len(lats), len(types)"
   ]
  },
  {
   "cell_type": "code",
   "execution_count": null,
   "metadata": {},
   "outputs": [],
   "source": [
    "df = pd.DataFrame(\n",
    "    data = {'lon': lons, 'lat': lats, 'label': types}\n",
    ")\n",
    "\n",
    "df"
   ]
  },
  {
   "cell_type": "code",
   "execution_count": null,
   "metadata": {},
   "outputs": [],
   "source": [
    "df.to_csv('../Synth_unfair.csv')"
   ]
  },
  {
   "cell_type": "code",
   "execution_count": null,
   "metadata": {},
   "outputs": [],
   "source": [
    "mapit = folium.Map(location=[37.09, -95.71], zoom_start=5, tiles=\"Stamen Toner\")\n",
    "\n",
    "label = 'label'\n",
    "\n",
    "for index, row in df.iterrows():\n",
    "    if row[label] == 1:\n",
    "        folium.CircleMarker( location=(row['lat'], row['lon']), color='#00FF00', fill_color='#00FF00', fill=True, opacity=0.4, fill_opacity=0.4, radius=2 ).add_to( mapit )\n",
    "    elif row[label] == 0:\n",
    "        folium.CircleMarker( location=(row['lat'], row['lon']), color='#FF0000', fill_color='#FF0000', fill=True, opacity=0.4, fill_opacity=0.4, radius=2 ).add_to( mapit )\n",
    "\n",
    "mapit.fit_bounds([(min_lat, min_lon), (max_lat, max_lon)])\n",
    "\n",
    "\n",
    "mapit\n"
   ]
  },
  {
   "cell_type": "code",
   "execution_count": null,
   "metadata": {},
   "outputs": [],
   "source": []
  }
 ],
 "metadata": {
  "kernelspec": {
   "display_name": "base",
   "language": "python",
   "name": "python3"
  },
  "language_info": {
   "codemirror_mode": {
    "name": "ipython",
    "version": 3
   },
   "file_extension": ".py",
   "mimetype": "text/x-python",
   "name": "python",
   "nbconvert_exporter": "python",
   "pygments_lexer": "ipython3",
   "version": "3.10.9"
  },
  "orig_nbformat": 4,
  "vscode": {
   "interpreter": {
    "hash": "b6166e26f2a0904529a2c96bcb3fef7fe9e6ff718962e2574762ea40b0420ba2"
   }
  }
 },
 "nbformat": 4,
 "nbformat_minor": 2
}
