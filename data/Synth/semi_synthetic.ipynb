{
 "cells": [
  {
   "cell_type": "code",
   "execution_count": null,
   "metadata": {},
   "outputs": [],
   "source": [
    "import pandas as pd\n",
    "import numpy as np\n",
    "import folium\n",
    "import random\n",
    "\n",
    "import sys\n",
    "sys.path.append('../../src')\n",
    "                \n",
    "from functions import *"
   ]
  },
  {
   "cell_type": "code",
   "execution_count": null,
   "metadata": {},
   "outputs": [],
   "source": [
    "## load the LAR dataset\n",
    "\n",
    "real_df = load_data('../LAR.csv')\n",
    "label = 'action_taken'\n",
    "real_df = filterbbox(real_df, -87.634938, 24.523096, -80.031362, 31.000888) ## florida\n",
    "\n",
    "\n",
    "N, P = get_stats(real_df, label)\n",
    "\n",
    "print(f'N={N} points')\n",
    "print(f'P={P} positives')\n",
    "real_df.head()\n"
   ]
  },
  {
   "cell_type": "code",
   "execution_count": null,
   "metadata": {},
   "outputs": [],
   "source": [
    "# sample n_points from df\n",
    "\n",
    "n_points = 10000\n",
    "\n",
    "real_df = real_df.sample(n_points)\n",
    "N, P = get_stats(real_df, label)\n",
    "print(f'N={N} points')\n"
   ]
  },
  {
   "cell_type": "code",
   "execution_count": null,
   "metadata": {},
   "outputs": [],
   "source": [
    "# create synthtic types\n",
    "\n",
    "rho = 0.5\n",
    "\n",
    "_, types = create_points(n_points, rho)\n",
    "print(np.sum(types))\n",
    "# points[:10]"
   ]
  },
  {
   "cell_type": "code",
   "execution_count": null,
   "metadata": {},
   "outputs": [],
   "source": [
    "df = pd.DataFrame(\n",
    "    data = {'lon': real_df['lon'], 'lat': real_df['lat']}\n",
    ")\n",
    "df['label'] = types\n",
    "\n",
    "df"
   ]
  },
  {
   "cell_type": "code",
   "execution_count": null,
   "metadata": {},
   "outputs": [],
   "source": [
    "df.to_csv('../Semisynth.csv')"
   ]
  },
  {
   "cell_type": "code",
   "execution_count": null,
   "metadata": {},
   "outputs": [],
   "source": [
    "lat_max = df['lat'].values.max()\n",
    "lat_min = df['lat'].values.min()\n",
    "lon_max = df['lon'].values.max()\n",
    "lon_min = df['lon'].values.min()"
   ]
  },
  {
   "cell_type": "code",
   "execution_count": null,
   "metadata": {},
   "outputs": [],
   "source": [
    "mapit = folium.Map(location=[37.09, -95.71], zoom_start=5, tiles=\"Stamen Toner\")\n",
    "\n",
    "label = 'label'\n",
    "\n",
    "for index, row in df.iterrows():\n",
    "    if row[label] == 1:\n",
    "        folium.CircleMarker( location=(row['lat'], row['lon']), color='#00FF00', fill_color='#00FF00', fill=True, opacity=0.4, fill_opacity=0.4, radius=2 ).add_to( mapit )\n",
    "    elif row[label] == 0:\n",
    "        folium.CircleMarker( location=(row['lat'], row['lon']), color='#FF0000', fill_color='#FF0000', fill=True, opacity=0.4, fill_opacity=0.4, radius=2 ).add_to( mapit )\n",
    "\n",
    "\n",
    "mapit.fit_bounds([(lat_min, lon_min), (lat_max, lon_max)])\n",
    "\n",
    "mapit\n"
   ]
  },
  {
   "cell_type": "code",
   "execution_count": null,
   "metadata": {},
   "outputs": [],
   "source": []
  }
 ],
 "metadata": {
  "kernelspec": {
   "display_name": "base",
   "language": "python",
   "name": "python3"
  },
  "language_info": {
   "codemirror_mode": {
    "name": "ipython",
    "version": 3
   },
   "file_extension": ".py",
   "mimetype": "text/x-python",
   "name": "python",
   "nbconvert_exporter": "python",
   "pygments_lexer": "ipython3",
   "version": "3.10.9"
  },
  "orig_nbformat": 4,
  "vscode": {
   "interpreter": {
    "hash": "b6166e26f2a0904529a2c96bcb3fef7fe9e6ff718962e2574762ea40b0420ba2"
   }
  }
 },
 "nbformat": 4,
 "nbformat_minor": 2
}
