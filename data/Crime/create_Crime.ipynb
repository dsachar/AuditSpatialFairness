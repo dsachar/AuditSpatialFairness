{
 "cells": [
  {
   "cell_type": "code",
   "execution_count": null,
   "metadata": {},
   "outputs": [],
   "source": [
    "import numpy as np\n",
    "import pandas as pd\n",
    "\n",
    "import os\n",
    "os.environ['USE_PYGEOS'] = '0'\n",
    "import geopandas as gpd"
   ]
  },
  {
   "attachments": {},
   "cell_type": "markdown",
   "metadata": {},
   "source": [
    "Download file `Crime_Data_from_2010_to_2019.csv` from:  \n",
    "<https://data.lacity.org/Public-Safety/Crime-Data-from-2010-to-2019/63jg-8b9z>"
   ]
  },
  {
   "cell_type": "code",
   "execution_count": null,
   "metadata": {},
   "outputs": [],
   "source": [
    "# filename = 'Crime_Data_from_2020_to_Present.csv'\n",
    "filename = 'Crime_Data_from_2010_to_2019.csv'\n",
    "\n",
    "df = pd.read_csv(filename)\n",
    "print(df.shape)\n",
    "\n",
    "## remove entries with missing lat/lon\n",
    "df = df[ (df['LAT'] != 0) | (df['LON'] != 0) ]\n",
    "\n",
    "\n",
    "if 'AREA ' in df.columns:\n",
    "    df.rename(columns={\"AREA \": \"AREA\"}, inplace=True)\n",
    "\n",
    "df.columns"
   ]
  },
  {
   "cell_type": "code",
   "execution_count": null,
   "metadata": {},
   "outputs": [],
   "source": [
    "# df = df[:50000]\n",
    "\n",
    "\n",
    "\n",
    "# ## truncate lat/lon coords\n",
    "# lat_prec = 100\n",
    "# df['LAT'] = np.trunc(lat_prec * df['LAT']) / lat_prec\n",
    "# lon_prec = 100\n",
    "# df['LON'] = np.trunc(lon_prec * df['LON']) / lon_prec\n",
    "\n",
    "# print(df.shape)\n",
    "# df.head()"
   ]
  },
  {
   "cell_type": "code",
   "execution_count": null,
   "metadata": {},
   "outputs": [],
   "source": [
    "print(f\"There are {len(df['Crm Cd 1'].unique())} unique crimes\")\n",
    "\n",
    "# df['Crm Cd 1'].value_counts().sort_index().cumsum().iloc[:10]\n",
    "\n",
    "## lowest crime codes are more serious\n",
    "\n",
    "serious_crime_codes = df['Crm Cd 1'].value_counts().sort_index().cumsum().index[:10].values\n",
    "print(serious_crime_codes)"
   ]
  },
  {
   "cell_type": "code",
   "execution_count": null,
   "metadata": {},
   "outputs": [],
   "source": [
    "df['serious'] = df['Crm Cd 1'].isin(serious_crime_codes).astype(int)\n",
    "df.sample(10)"
   ]
  },
  {
   "cell_type": "code",
   "execution_count": null,
   "metadata": {},
   "outputs": [],
   "source": [
    "# columns = ['DATE OCC', 'TIME OCC', 'AREA', 'Vict Age', 'Vict Sex', 'Vict Descent', 'Premis Cd', 'Weapon Used Cd', 'LOCATION', 'LAT', 'LON', 'serious']\n",
    "columns = ['TIME OCC', 'AREA', 'Vict Age', 'Vict Sex', 'Vict Descent', 'Premis Cd', 'Weapon Used Cd', 'LOCATION', 'LAT', 'LON', 'serious']\n",
    "crimes = df[columns]\n",
    "crimes = crimes.dropna()\n",
    "\n",
    "crimes['Premis Cd'] = crimes['Premis Cd'].astype(int).astype(str)\n",
    "crimes['Weapon Used Cd'] = crimes['Weapon Used Cd'].astype(int).astype(str)\n",
    "print(crimes.dtypes)\n",
    "crimes.sample(10)"
   ]
  },
  {
   "cell_type": "code",
   "execution_count": null,
   "metadata": {},
   "outputs": [],
   "source": [
    "crimes_areas = pd.get_dummies(crimes['AREA'], prefix='Area')\n",
    "print(crimes_areas.shape[1])\n",
    "crimes_sex = pd.get_dummies(crimes['Vict Sex'], prefix='Sex')\n",
    "print(crimes_sex.shape[1])\n",
    "crimes_descent = pd.get_dummies(crimes['Vict Descent'], prefix='Descent')\n",
    "print(crimes_descent.shape[1])\n",
    "crimes_premise = pd.get_dummies(crimes['Premis Cd'], prefix='Premise')\n",
    "print(crimes_premise.shape[1])\n",
    "crimes_weapon = pd.get_dummies(crimes['Weapon Used Cd'], prefix='Weapon')\n",
    "print(crimes_weapon.shape[1])\n",
    "# crimes_location = pd.get_dummies(crimes['LOCATION'], prefix='Location')\n",
    "# print(crimes_location.shape[1])\n"
   ]
  },
  {
   "cell_type": "code",
   "execution_count": null,
   "metadata": {},
   "outputs": [],
   "source": [
    "crimes_onehot = pd.concat([crimes[['serious', 'TIME OCC']], crimes_areas, crimes_sex, crimes_descent, crimes_premise, crimes_weapon], axis=1)\n",
    "\n",
    "# crimes_onehot.reset_index(drop=True, inplace=True)\n",
    "\n",
    "print(crimes_onehot.shape)\n",
    "crimes_onehot.head(10)"
   ]
  },
  {
   "cell_type": "code",
   "execution_count": null,
   "metadata": {},
   "outputs": [],
   "source": [
    "from sklearn.model_selection import train_test_split\n",
    "\n",
    "X = crimes_onehot.iloc[:, 1:]\n",
    "y = crimes_onehot.iloc[:, 0]\n",
    "print(X.shape, y.shape)\n",
    "X_train, X_test, y_train, y_test = train_test_split(X, y, test_size=0.3)"
   ]
  },
  {
   "cell_type": "code",
   "execution_count": null,
   "metadata": {},
   "outputs": [],
   "source": [
    "from sklearn.ensemble import RandomForestClassifier\n",
    "\n",
    "clf = RandomForestClassifier(n_estimators=10)\n",
    "\n",
    "#Train the model using the training sets\n",
    "clf.fit(X_train, y_train)\n",
    "\n",
    "y_pred = clf.predict(X_test)\n",
    "\n",
    "# print(y_pred)"
   ]
  },
  {
   "cell_type": "code",
   "execution_count": null,
   "metadata": {},
   "outputs": [],
   "source": [
    "from sklearn import metrics\n",
    "\n",
    "print(\"Accuracy:\", metrics.accuracy_score(y_test, y_pred))"
   ]
  },
  {
   "cell_type": "code",
   "execution_count": null,
   "metadata": {},
   "outputs": [],
   "source": [
    "## create the dataframe with predictions\n",
    "\n",
    "dataset = pd.concat([y_test], axis=1)\n",
    "\n",
    "dataset.rename(columns={'serious': 'label'}, inplace=True)\n",
    "\n",
    "dataset['pred'] = y_pred\n",
    "\n",
    "dataset['lat'] = crimes['LAT']\n",
    "dataset['lon'] = crimes['LON']\n",
    "print(dataset['label'].value_counts())\n",
    "dataset.head()\n"
   ]
  },
  {
   "cell_type": "code",
   "execution_count": null,
   "metadata": {},
   "outputs": [],
   "source": [
    "dataset_serious = dataset[dataset['label']==1]\n",
    "dataset_serious = dataset_serious.drop('label', axis='columns')\n",
    "print(dataset_serious.shape)\n",
    "dataset_serious.reset_index(inplace=True, drop=True)\n",
    "dataset_serious.to_csv('../Crime.csv')"
   ]
  },
  {
   "cell_type": "code",
   "execution_count": null,
   "metadata": {},
   "outputs": [],
   "source": [
    "# dataset_notserious = dataset[dataset['label']==0]\n",
    "# dataset_notserious.drop('label', axis='columns', inplace=True)\n",
    "# dataset_notserious.shape\n",
    "# print(dataset_notserious.shape)\n",
    "# dataset_notserious.reset_index(inplace=True, drop=True)\n",
    "# dataset_notserious.to_csv('../Crime_notserious.csv')"
   ]
  }
 ],
 "metadata": {
  "kernelspec": {
   "display_name": "base",
   "language": "python",
   "name": "python3"
  },
  "language_info": {
   "codemirror_mode": {
    "name": "ipython",
    "version": 3
   },
   "file_extension": ".py",
   "mimetype": "text/x-python",
   "name": "python",
   "nbconvert_exporter": "python",
   "pygments_lexer": "ipython3",
   "version": "3.10.9"
  },
  "orig_nbformat": 4,
  "vscode": {
   "interpreter": {
    "hash": "b6166e26f2a0904529a2c96bcb3fef7fe9e6ff718962e2574762ea40b0420ba2"
   }
  }
 },
 "nbformat": 4,
 "nbformat_minor": 2
}
