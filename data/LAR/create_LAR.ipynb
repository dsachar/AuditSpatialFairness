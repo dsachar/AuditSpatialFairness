{
 "cells": [
  {
   "cell_type": "code",
   "execution_count": null,
   "id": "4dad118f-955c-4c87-824c-482a6deb8c64",
   "metadata": {},
   "outputs": [],
   "source": [
    "import pandas as pd\n",
    "import numpy as np\n",
    "import folium"
   ]
  },
  {
   "attachments": {},
   "cell_type": "markdown",
   "id": "1c44993d",
   "metadata": {},
   "source": [
    "Download data from:  \n",
    "<https://ffiec.cfpb.gov/data-publication/modified-lar/2021>\n",
    "\n",
    "Make sure 2021 is selected and enter `B4TYDEB6GKMZO031MB27` as the LEI for Bank of America. Then click on \"Download Modified LAR\"."
   ]
  },
  {
   "cell_type": "code",
   "execution_count": null,
   "id": "243abb7d-d599-46bb-b44a-32a4a08e42dd",
   "metadata": {},
   "outputs": [],
   "source": [
    "df = pd.read_csv('B4TYDEB6GKMZO031MB27.csv')\n",
    "print(len(df))\n",
    "df.head()"
   ]
  },
  {
   "cell_type": "code",
   "execution_count": null,
   "id": "4a86de90",
   "metadata": {},
   "outputs": [],
   "source": [
    "df = df[['action_taken', 'census_tract']]\n",
    "df = df.dropna()\n",
    "df['census_tract'] = df['census_tract'].astype(int)\n",
    "print(df.dtypes)\n",
    "df['census_tract'] = df['census_tract'].astype(str)\n",
    "\n",
    "\n",
    "df = df[(df['action_taken'] == 1) | (df['action_taken'] == 3)]\n",
    "print(df['action_taken'].value_counts())\n",
    "print(df['census_tract'].nunique())\n",
    "\n",
    "print(len(df))\n"
   ]
  },
  {
   "cell_type": "code",
   "execution_count": null,
   "id": "aaaa79a6",
   "metadata": {},
   "outputs": [],
   "source": [
    "## subsample\n",
    "# df = df.sample(n=120000)"
   ]
  },
  {
   "attachments": {},
   "cell_type": "markdown",
   "id": "0c948ee9",
   "metadata": {},
   "source": [
    "## Retrieve Locations of Census Tracts from Census Gazetteer"
   ]
  },
  {
   "attachments": {},
   "cell_type": "markdown",
   "id": "647746ce",
   "metadata": {},
   "source": [
    "Downloaded data from:  \n",
    "<https://www.census.gov/geographies/reference-files/time-series/geo/gazetteer-files.2021.html>\n",
    "\n",
    "Find `Census Tracts` and click on \"Download the National Census Tracts Gazetteer Files\"."
   ]
  },
  {
   "cell_type": "code",
   "execution_count": null,
   "id": "26837413",
   "metadata": {},
   "outputs": [],
   "source": [
    "loc_df = pd.read_csv('2021_Gaz_tracts_national.csv', delimiter='\\t')\n",
    "print(loc_df.dtypes)\n",
    "# loc_df.head()\n",
    "loc_df.rename(columns={ loc_df.columns[-1]: \"INTPTLONG\" }, inplace = True)\n",
    "# loc_df.columns\n"
   ]
  },
  {
   "cell_type": "code",
   "execution_count": null,
   "id": "f8af7734",
   "metadata": {},
   "outputs": [],
   "source": [
    "tract2loc = dict(zip(loc_df['GEOID'], zip(loc_df['INTPTLAT'], loc_df['INTPTLONG'])))\n",
    "# print(tract2loc[list(tract2loc.keys())[0]])\n",
    "\n"
   ]
  },
  {
   "cell_type": "code",
   "execution_count": null,
   "id": "5c5aaf59",
   "metadata": {},
   "outputs": [],
   "source": [
    "# print(df.head(1))\n",
    "# print(df.dtypes)\n",
    "\n",
    "df['location'] = df['census_tract'].astype(int).map(tract2loc)\n",
    "\n",
    "df[['lat', 'lon']] = pd.DataFrame(df['location'].tolist(), index=df.index)\n",
    "\n",
    "# print(df.iloc[0])\n",
    "\n",
    "df = df.dropna()\n",
    "print(len(df))\n",
    "print(df['action_taken'].value_counts())\n",
    "df.head()\n"
   ]
  },
  {
   "cell_type": "markdown",
   "id": "0171baf9",
   "metadata": {},
   "source": [
    "## Display"
   ]
  },
  {
   "cell_type": "code",
   "execution_count": null,
   "id": "a7ee560f",
   "metadata": {},
   "outputs": [],
   "source": [
    "df.to_csv('../LAR.csv')"
   ]
  },
  {
   "cell_type": "code",
   "execution_count": null,
   "id": "27363dc0",
   "metadata": {},
   "outputs": [],
   "source": [
    "mapit = folium.Map(location=[37.09, -95.71], zoom_start=5, tiles=\"Stamen Toner\")\n",
    "\n",
    "for index, row in df.iterrows():\n",
    "    if row['action_taken'] == 1:\n",
    "        folium.CircleMarker( location=row['location'], color='#00FF00', fill_color='#00FF00', fill=True, opacity=0.4, fill_opacity=0.4, radius=2 ).add_to( mapit )\n",
    "    elif row['action_taken'] == 3:\n",
    "        folium.CircleMarker( location=row['location'], color='#FF0000', fill_color='#FF0000', fill=True, opacity=0.4, fill_opacity=0.4, radius=2 ).add_to( mapit )\n",
    "\n",
    "mapit\n"
   ]
  },
  {
   "cell_type": "code",
   "execution_count": null,
   "id": "8c0f7b7c",
   "metadata": {},
   "outputs": [],
   "source": []
  }
 ],
 "metadata": {
  "kernelspec": {
   "display_name": "Python 3.9.7 ('base')",
   "language": "python",
   "name": "python3"
  },
  "language_info": {
   "codemirror_mode": {
    "name": "ipython",
    "version": 3
   },
   "file_extension": ".py",
   "mimetype": "text/x-python",
   "name": "python",
   "nbconvert_exporter": "python",
   "pygments_lexer": "ipython3",
   "version": "3.10.9"
  },
  "vscode": {
   "interpreter": {
    "hash": "b6166e26f2a0904529a2c96bcb3fef7fe9e6ff718962e2574762ea40b0420ba2"
   }
  }
 },
 "nbformat": 4,
 "nbformat_minor": 5
}
